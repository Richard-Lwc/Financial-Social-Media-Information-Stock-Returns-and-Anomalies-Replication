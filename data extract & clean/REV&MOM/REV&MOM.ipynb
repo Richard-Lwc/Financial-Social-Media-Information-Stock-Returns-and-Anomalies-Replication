{
 "cells": [
  {
   "cell_type": "code",
   "execution_count": 1,
   "id": "cda688fd",
   "metadata": {
    "ExecuteTime": {
     "end_time": "2023-06-04T04:20:22.500705Z",
     "start_time": "2023-06-04T04:20:19.645828Z"
    }
   },
   "outputs": [],
   "source": [
    "import pandas as pd\n",
    "import numpy as np\n",
    "import matplotlib.pyplot as plt\n",
    "from datetime import datetime\n",
    "import os"
   ]
  },
  {
   "cell_type": "code",
   "execution_count": 2,
   "id": "9dcdd2dc",
   "metadata": {
    "ExecuteTime": {
     "end_time": "2023-06-04T04:20:23.509333Z",
     "start_time": "2023-06-04T04:20:23.501769Z"
    }
   },
   "outputs": [],
   "source": [
    "cd = \"C:\\\\Users\\\\ASUS\\\\Nutstore\\\\1\\\\金融建模\\\\REV&MOM\\\\月个股回报率05年起始\""
   ]
  },
  {
   "cell_type": "code",
   "execution_count": 3,
   "id": "64a9d2e7",
   "metadata": {
    "ExecuteTime": {
     "end_time": "2023-06-04T04:20:23.957977Z",
     "start_time": "2023-06-04T04:20:23.927229Z"
    }
   },
   "outputs": [
    {
     "data": {
      "text/plain": [
       "['REV&MOM.csv',\n",
       " 'REV&MOM.ipynb',\n",
       " 'TRD_Mnth.csv',\n",
       " 'TRD_Mnth[DES][csv].txt',\n",
       " '版权声明.pdf']"
      ]
     },
     "execution_count": 3,
     "metadata": {},
     "output_type": "execute_result"
    }
   ],
   "source": [
    "os.listdir(cd)"
   ]
  },
  {
   "cell_type": "code",
   "execution_count": 4,
   "id": "e7516132",
   "metadata": {
    "ExecuteTime": {
     "end_time": "2023-06-04T04:20:24.612685Z",
     "start_time": "2023-06-04T04:20:24.605680Z"
    }
   },
   "outputs": [],
   "source": [
    "os.chdir(cd)"
   ]
  },
  {
   "cell_type": "code",
   "execution_count": 5,
   "id": "1141bb6b",
   "metadata": {
    "ExecuteTime": {
     "end_time": "2023-06-04T04:20:25.569305Z",
     "start_time": "2023-06-04T04:20:25.416548Z"
    }
   },
   "outputs": [],
   "source": [
    "month_ret = pd.read_csv(\"TRD_Mnth.csv\")"
   ]
  },
  {
   "cell_type": "code",
   "execution_count": 6,
   "id": "ac330cc6",
   "metadata": {
    "ExecuteTime": {
     "end_time": "2023-06-04T04:20:32.605755Z",
     "start_time": "2023-06-04T04:20:32.515388Z"
    }
   },
   "outputs": [],
   "source": [
    "month_ret.sort_values(by=['Stkcd', 'Trdmnt'], inplace=True)"
   ]
  },
  {
   "cell_type": "code",
   "execution_count": 7,
   "id": "259b1f07",
   "metadata": {
    "ExecuteTime": {
     "end_time": "2023-06-04T04:20:34.535223Z",
     "start_time": "2023-06-04T04:20:33.552388Z"
    }
   },
   "outputs": [],
   "source": [
    "month_ret['momentum'] = month_ret.groupby('Stkcd').apply(lambda x: x['Mretwd'].rolling(11).sum().shift(1)).values"
   ]
  },
  {
   "cell_type": "code",
   "execution_count": 8,
   "id": "9d4c4d0f",
   "metadata": {
    "ExecuteTime": {
     "end_time": "2023-06-04T04:20:35.333087Z",
     "start_time": "2023-06-04T04:20:35.325619Z"
    }
   },
   "outputs": [],
   "source": [
    "month_ret.rename(columns={'Mretwd': 'Reverse'}, inplace=True)"
   ]
  },
  {
   "cell_type": "code",
   "execution_count": 9,
   "id": "225c0369",
   "metadata": {
    "ExecuteTime": {
     "end_time": "2023-06-04T04:20:36.752790Z",
     "start_time": "2023-06-04T04:20:36.713781Z"
    }
   },
   "outputs": [],
   "source": [
    "month_ret = month_ret[month_ret.Trdmnt >= '2009-01'].reset_index(drop=True)"
   ]
  },
  {
   "cell_type": "code",
   "execution_count": 10,
   "id": "aee91253",
   "metadata": {
    "ExecuteTime": {
     "end_time": "2023-06-04T04:20:38.274101Z",
     "start_time": "2023-06-04T04:20:38.248825Z"
    }
   },
   "outputs": [
    {
     "data": {
      "text/html": [
       "<div>\n",
       "<style scoped>\n",
       "    .dataframe tbody tr th:only-of-type {\n",
       "        vertical-align: middle;\n",
       "    }\n",
       "\n",
       "    .dataframe tbody tr th {\n",
       "        vertical-align: top;\n",
       "    }\n",
       "\n",
       "    .dataframe thead th {\n",
       "        text-align: right;\n",
       "    }\n",
       "</style>\n",
       "<table border=\"1\" class=\"dataframe\">\n",
       "  <thead>\n",
       "    <tr style=\"text-align: right;\">\n",
       "      <th></th>\n",
       "      <th>Stkcd</th>\n",
       "      <th>Trdmnt</th>\n",
       "      <th>Reverse</th>\n",
       "      <th>momentum</th>\n",
       "    </tr>\n",
       "  </thead>\n",
       "  <tbody>\n",
       "    <tr>\n",
       "      <th>0</th>\n",
       "      <td>1</td>\n",
       "      <td>2009-01</td>\n",
       "      <td>0.230444</td>\n",
       "      <td>-0.841778</td>\n",
       "    </tr>\n",
       "    <tr>\n",
       "      <th>1</th>\n",
       "      <td>1</td>\n",
       "      <td>2009-02</td>\n",
       "      <td>0.185567</td>\n",
       "      <td>-0.606829</td>\n",
       "    </tr>\n",
       "    <tr>\n",
       "      <th>2</th>\n",
       "      <td>1</td>\n",
       "      <td>2009-03</td>\n",
       "      <td>0.155072</td>\n",
       "      <td>-0.271941</td>\n",
       "    </tr>\n",
       "    <tr>\n",
       "      <th>3</th>\n",
       "      <td>1</td>\n",
       "      <td>2009-04</td>\n",
       "      <td>0.023839</td>\n",
       "      <td>-0.167224</td>\n",
       "    </tr>\n",
       "    <tr>\n",
       "      <th>4</th>\n",
       "      <td>1</td>\n",
       "      <td>2009-05</td>\n",
       "      <td>0.093137</td>\n",
       "      <td>0.004826</td>\n",
       "    </tr>\n",
       "    <tr>\n",
       "      <th>...</th>\n",
       "      <td>...</td>\n",
       "      <td>...</td>\n",
       "      <td>...</td>\n",
       "      <td>...</td>\n",
       "    </tr>\n",
       "    <tr>\n",
       "      <th>338203</th>\n",
       "      <td>688388</td>\n",
       "      <td>2019-11</td>\n",
       "      <td>-0.059023</td>\n",
       "      <td>NaN</td>\n",
       "    </tr>\n",
       "    <tr>\n",
       "      <th>338204</th>\n",
       "      <td>688388</td>\n",
       "      <td>2019-12</td>\n",
       "      <td>0.361932</td>\n",
       "      <td>NaN</td>\n",
       "    </tr>\n",
       "    <tr>\n",
       "      <th>338205</th>\n",
       "      <td>688389</td>\n",
       "      <td>2019-11</td>\n",
       "      <td>NaN</td>\n",
       "      <td>NaN</td>\n",
       "    </tr>\n",
       "    <tr>\n",
       "      <th>338206</th>\n",
       "      <td>688389</td>\n",
       "      <td>2019-12</td>\n",
       "      <td>0.004896</td>\n",
       "      <td>NaN</td>\n",
       "    </tr>\n",
       "    <tr>\n",
       "      <th>338207</th>\n",
       "      <td>688399</td>\n",
       "      <td>2019-12</td>\n",
       "      <td>NaN</td>\n",
       "      <td>NaN</td>\n",
       "    </tr>\n",
       "  </tbody>\n",
       "</table>\n",
       "<p>338208 rows × 4 columns</p>\n",
       "</div>"
      ],
      "text/plain": [
       "         Stkcd   Trdmnt   Reverse  momentum\n",
       "0            1  2009-01  0.230444 -0.841778\n",
       "1            1  2009-02  0.185567 -0.606829\n",
       "2            1  2009-03  0.155072 -0.271941\n",
       "3            1  2009-04  0.023839 -0.167224\n",
       "4            1  2009-05  0.093137  0.004826\n",
       "...        ...      ...       ...       ...\n",
       "338203  688388  2019-11 -0.059023       NaN\n",
       "338204  688388  2019-12  0.361932       NaN\n",
       "338205  688389  2019-11       NaN       NaN\n",
       "338206  688389  2019-12  0.004896       NaN\n",
       "338207  688399  2019-12       NaN       NaN\n",
       "\n",
       "[338208 rows x 4 columns]"
      ]
     },
     "execution_count": 10,
     "metadata": {},
     "output_type": "execute_result"
    }
   ],
   "source": [
    "month_ret"
   ]
  },
  {
   "cell_type": "code",
   "execution_count": 11,
   "id": "b2e3c25a",
   "metadata": {
    "ExecuteTime": {
     "end_time": "2023-06-04T04:20:59.504560Z",
     "start_time": "2023-06-04T04:20:58.652339Z"
    }
   },
   "outputs": [],
   "source": [
    "month_ret.to_csv('..\\\\REV&MOM.csv', index=False)"
   ]
  },
  {
   "cell_type": "code",
   "execution_count": 13,
   "id": "58a9f3a3",
   "metadata": {
    "ExecuteTime": {
     "end_time": "2023-06-04T04:24:43.189679Z",
     "start_time": "2023-06-04T04:24:42.859067Z"
    }
   },
   "outputs": [],
   "source": [
    "month_ret.to_stata('..\\\\REV&MOM.dta', write_index=False)"
   ]
  }
 ],
 "metadata": {
  "kernelspec": {
   "display_name": "Python 3 (ipykernel)",
   "language": "python",
   "name": "python3"
  },
  "language_info": {
   "codemirror_mode": {
    "name": "ipython",
    "version": 3
   },
   "file_extension": ".py",
   "mimetype": "text/x-python",
   "name": "python",
   "nbconvert_exporter": "python",
   "pygments_lexer": "ipython3",
   "version": "3.10.5"
  },
  "toc": {
   "base_numbering": 1,
   "nav_menu": {},
   "number_sections": true,
   "sideBar": true,
   "skip_h1_title": false,
   "title_cell": "Table of Contents",
   "title_sidebar": "Contents",
   "toc_cell": false,
   "toc_position": {},
   "toc_section_display": true,
   "toc_window_display": false
  },
  "varInspector": {
   "cols": {
    "lenName": 16,
    "lenType": 16,
    "lenVar": 40
   },
   "kernels_config": {
    "python": {
     "delete_cmd_postfix": "",
     "delete_cmd_prefix": "del ",
     "library": "var_list.py",
     "varRefreshCmd": "print(var_dic_list())"
    },
    "r": {
     "delete_cmd_postfix": ") ",
     "delete_cmd_prefix": "rm(",
     "library": "var_list.r",
     "varRefreshCmd": "cat(var_dic_list()) "
    }
   },
   "types_to_exclude": [
    "module",
    "function",
    "builtin_function_or_method",
    "instance",
    "_Feature"
   ],
   "window_display": false
  }
 },
 "nbformat": 4,
 "nbformat_minor": 5
}
